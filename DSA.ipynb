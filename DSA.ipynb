{
 "cells": [
  {
   "cell_type": "markdown",
   "metadata": {},
   "source": [
    "<div style=\"background-color:olive; padding:10px;\">\n",
    "</div>"
   ]
  },
  {
   "cell_type": "markdown",
   "metadata": {},
   "source": [
    "> ## Complexity - General"
   ]
  },
  {
   "cell_type": "markdown",
   "metadata": {},
   "source": [
    "<img width=\"400\" alt=\"image\" src=\"https://github.com/WiresharkIO/Missing_semester/assets/14985440/dd4fd8db-4080-4bf3-b928-588e1c61182d\">"
   ]
  },
  {
   "cell_type": "markdown",
   "metadata": {},
   "source": [
    "##  Algorithm  - Binary search based on recursion\n",
    "### complexity     - Binary search performs O(log n) comparisons in worst case and O(1) in best case\n",
    "### cons: sorting\n",
    "### Info: similar to a binary tree search, where we divide and conquer"
   ]
  },
  {
   "cell_type": "code",
   "execution_count": 6,
   "metadata": {},
   "outputs": [
    {
     "name": "stdout",
     "output_type": "stream",
     "text": [
      "Element is present at index 3\n"
     ]
    }
   ],
   "source": [
    "# Python3 Program for recursive binary search.\n",
    "\n",
    "\n",
    "# Returns index of x in arr if present, else -1\n",
    "def binarySearch(arr, l, r, x):\n",
    "\n",
    "\t# Check base case\n",
    "\tif r >= l:\n",
    "\n",
    "\t\tmid = l + (r - l) // 2\n",
    "\n",
    "\t\t# If element is present at the middle itself\n",
    "\t\tif arr[mid] == x:\n",
    "\t\t\treturn mid\n",
    "\n",
    "\t\t# If element is smaller than mid, then it\n",
    "\t\t# can only be present in left subarray\n",
    "\t\telif arr[mid] > x:\n",
    "\t\t\treturn binarySearch(arr, l, mid-1, x)\n",
    "\n",
    "\t\t# Else the element can only be present\n",
    "\t\t# in right subarray\n",
    "\t\telse:\n",
    "\t\t\treturn binarySearch(arr, mid + 1, r, x)\n",
    "\n",
    "\t# Element is not present in the array\n",
    "\telse:\n",
    "\t\treturn -1\n",
    "\n",
    "\n",
    "# Driver Code\n",
    "if __name__ == '__main__':\n",
    "\tarr = [2, 3, 4, 10, 40]\n",
    "\tx = 10\n",
    "\t\n",
    "\t# Function call\n",
    "\tresult = binarySearch(arr, 0, len(arr)-1, x)\n",
    "\t\n",
    "\tif result != -1:\n",
    "\t\tprint(\"Element is present at index\", result)\n",
    "\telse:\n",
    "\t\tprint(\"Element is not present in array\")\n"
   ]
  },
  {
   "cell_type": "markdown",
   "metadata": {},
   "source": [
    "<div style=\"background-color:lightblue; padding:10px;\">\n",
    "Binary search performs O(log n) comparisons and linear search O(n) comparisons or guesses to find a target. However what would be the \"TIME\" which is the actual determining factor of how an algorithm is performing.\n",
    "\n",
    "The running time of an algorithm depends on how long it takes a computer to run the lines of code of the algorithm and that depends on the speed of the computer, the programming language, and the compiler that translates the program from the programming language into code that runs directly on the computer, among other factors.\n",
    "\n",
    "Usually, the analysis of an algorithm is done based on three cases:\n",
    "\n",
    "    -Best Case (Omega Notation (Ω))\n",
    "\n",
    "    -Average Case (Theta Notation (Θ))\n",
    "\n",
    "    -Worst Case (O Notation(O))\n",
    "    \n",
    "    \n",
    "\n",
    "</div>"
   ]
  },
  {
   "cell_type": "markdown",
   "metadata": {},
   "source": [
    "References:\n",
    "    \n",
    "- https://www.khanacademy.org/computing/computer-science/algorithms/asymptotic-notation/a/asymptotic-notation\n",
    "- https://www.geeksforgeeks.org/binary-search/\n",
    "- https://xlinux.nist.gov/dads/HTML/binarySearch.html\n",
    "- https://www.geeksforgeeks.org/asymptotic-notations-and-how-to-calculate-them/"
   ]
  },
  {
   "cell_type": "markdown",
   "metadata": {},
   "source": [
    "<div style=\"background-color:green; padding:10px;\">\n",
    "</div>"
   ]
  }
 ],
 "metadata": {
  "kernelspec": {
   "display_name": "Python 3 (ipykernel)",
   "language": "python",
   "name": "python3"
  },
  "language_info": {
   "codemirror_mode": {
    "name": "ipython",
    "version": 3
   },
   "file_extension": ".py",
   "mimetype": "text/x-python",
   "name": "python",
   "nbconvert_exporter": "python",
   "pygments_lexer": "ipython3",
   "version": "3.7.4"
  }
 },
 "nbformat": 4,
 "nbformat_minor": 4
}
